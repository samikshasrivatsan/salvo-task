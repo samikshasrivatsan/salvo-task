{
  "cells": [
    {
      "cell_type": "markdown",
      "source": [
        "link to dataset: https://www.kaggle.com/competitions/digit-recognizer/data?select=train.csv"
      ],
      "metadata": {
        "id": "orUnJcQKiU3m"
      }
    },
    {
      "cell_type": "code",
      "source": [
        "import numpy as np\n",
        "import pandas as pd\n",
        "from matplotlib import pyplot as plt"
      ],
      "metadata": {
        "id": "CQNOfVw_Us4L"
      },
      "execution_count": 1,
      "outputs": []
    },
    {
      "cell_type": "code",
      "source": [
        "data=pd.read_csv(\"/content/train.csv\")"
      ],
      "metadata": {
        "id": "hi1ID3g_U33K"
      },
      "execution_count": 2,
      "outputs": []
    },
    {
      "cell_type": "code",
      "source": [
        "data = np.array(data)\n",
        "m, n = data.shape\n",
        "np.random.shuffle(data)"
      ],
      "metadata": {
        "id": "h0Zt088wU6fR"
      },
      "execution_count": 3,
      "outputs": []
    },
    {
      "cell_type": "code",
      "source": [
        "data_dev = data[0:1000].T\n",
        "Y_dev = data_dev[0]\n",
        "X_dev = data_dev[1:n]\n",
        "X_dev = X_dev / 255."
      ],
      "metadata": {
        "id": "SsxLRV4447-d"
      },
      "execution_count": 4,
      "outputs": []
    },
    {
      "cell_type": "code",
      "source": [
        "data_train = data[1000:m].T\n",
        "Y_train = data_train[0]\n",
        "X_train = data_train[1:n]\n",
        "X_train = X_train / 255.\n",
        "_,m_train = X_train.shape"
      ],
      "metadata": {
        "id": "e5NinjJC47QF"
      },
      "execution_count": 5,
      "outputs": []
    },
    {
      "cell_type": "code",
      "source": [
        "Y_train"
      ],
      "metadata": {
        "colab": {
          "base_uri": "https://localhost:8080/"
        },
        "id": "mawxpkeVU9TF",
        "outputId": "e4982fa2-81fb-4181-8b17-e689970a943a"
      },
      "execution_count": 6,
      "outputs": [
        {
          "output_type": "execute_result",
          "data": {
            "text/plain": [
              "array([3, 6, 2, ..., 8, 9, 2])"
            ]
          },
          "metadata": {},
          "execution_count": 6
        }
      ]
    },
    {
      "cell_type": "code",
      "source": [
        "def init_params():\n",
        "    W1 = np.random.rand(10, 784) - 0.5\n",
        "    b1 = np.random.rand(10, 1) - 0.5\n",
        "    W2 = np.random.rand(10, 10) - 0.5\n",
        "    b2 = np.random.rand(10, 1) - 0.5\n",
        "    return W1, b1, W2, b2"
      ],
      "metadata": {
        "id": "s0Wu7FBFU_uH"
      },
      "execution_count": 7,
      "outputs": []
    },
    {
      "cell_type": "markdown",
      "source": [
        "W: weight, B: bias, Z: activation function"
      ],
      "metadata": {
        "id": "7VU6tiXH3ah4"
      }
    },
    {
      "cell_type": "markdown",
      "source": [
        "input layer: 784,\n",
        "hidden layer: 10,\n",
        "output layer: 10"
      ],
      "metadata": {
        "id": "Hl3FhyFOVHdU"
      }
    },
    {
      "cell_type": "markdown",
      "source": [
        "rand: generates values between 0 and 1 for each value of the array"
      ],
      "metadata": {
        "id": "zFLfzD-aTt0t"
      }
    },
    {
      "cell_type": "code",
      "source": [
        "def ReLU(Z):\n",
        "    return np.maximum(Z, 0)"
      ],
      "metadata": {
        "id": "pdU6JbLtV-m7"
      },
      "execution_count": 8,
      "outputs": []
    },
    {
      "cell_type": "markdown",
      "source": [
        "rectified linear unit: relu(x) = x (if x > 0), =0 (if x <= 0)"
      ],
      "metadata": {
        "id": "xB5G0IvTW5z-"
      }
    },
    {
      "cell_type": "code",
      "source": [
        "def softmax(Z):\n",
        "    A = np.exp(Z) / sum(np.exp(Z))\n",
        "    return A"
      ],
      "metadata": {
        "id": "YSqFX4p6W0OF"
      },
      "execution_count": 9,
      "outputs": []
    },
    {
      "cell_type": "markdown",
      "source": [
        "softmax activation function: e^zi/sum(e^zj), gives the probability"
      ],
      "metadata": {
        "id": "elLfLqoiXc8u"
      }
    },
    {
      "cell_type": "code",
      "source": [
        "def forward_prop(W1, b1, W2, b2, X):\n",
        "    Z1 = W1.dot(X) + b1\n",
        "    A1 = ReLU(Z1)\n",
        "    Z2 = W2.dot(A1) + b2\n",
        "    A2 = softmax(Z2)\n",
        "    return Z1, A1, Z2, A2"
      ],
      "metadata": {
        "id": "sntpNLlFW3vu"
      },
      "execution_count": 10,
      "outputs": []
    },
    {
      "cell_type": "code",
      "source": [
        "def ReLU_deriv(Z):\n",
        "    return Z > 0\n",
        "\n",
        "def one_hot(Y):\n",
        "    one_hot_Y = np.zeros((Y.size, Y.max() + 1))\n",
        "    one_hot_Y[np.arange(Y.size), Y] = 1\n",
        "    one_hot_Y = one_hot_Y.T\n",
        "    return one_hot_Y"
      ],
      "metadata": {
        "id": "gFNFY9xQVGmU"
      },
      "execution_count": 11,
      "outputs": []
    },
    {
      "cell_type": "markdown",
      "source": [
        "one hot: each category is a separate column with a 1 indicating its presence and 0 for everything else"
      ],
      "metadata": {
        "id": "CmDU77tWOhZ2"
      }
    },
    {
      "cell_type": "code",
      "source": [
        "def backward_prop(Z1, A1, Z2, A2, W1, W2, X, Y):\n",
        "    one_hot_Y = one_hot(Y)\n",
        "    dZ2 = A2 - one_hot_Y\n",
        "    dW2 = 1 / m * dZ2.dot(A1.T)\n",
        "    db2 = 1 / m * np.sum(dZ2)\n",
        "    dZ1 = W2.T.dot(dZ2) * ReLU_deriv(Z1)\n",
        "    dW1 = 1 / m * dZ1.dot(X.T)\n",
        "    db1 = 1 / m * np.sum(dZ1)\n",
        "    return dW1, db1, dW2, db2"
      ],
      "metadata": {
        "id": "0WKRENfHYgzp"
      },
      "execution_count": 12,
      "outputs": []
    },
    {
      "cell_type": "markdown",
      "source": [
        "dz2: error of the second layer"
      ],
      "metadata": {
        "id": "CcRVBhhKYhoi"
      }
    },
    {
      "cell_type": "markdown",
      "source": [
        "dw2: derivation of the loss function with respect to the weights in layer 2"
      ],
      "metadata": {
        "id": "WoN469qvY3GC"
      }
    },
    {
      "cell_type": "markdown",
      "source": [
        "db2: average of the absolute error for the second layer"
      ],
      "metadata": {
        "id": "jwXgvgSVY_cS"
      }
    },
    {
      "cell_type": "markdown",
      "source": [
        "dz1: (error from second layer to which weights are applied in reverse to get to errors in first layer) * (derivative of the activation function to undo the activation function)"
      ],
      "metadata": {
        "id": "MWrJv_hxZRpG"
      }
    },
    {
      "cell_type": "markdown",
      "source": [
        "dw1, db1 are calculated similar to dw2, db2"
      ],
      "metadata": {
        "id": "eIXpFf0hZ76-"
      }
    },
    {
      "cell_type": "code",
      "source": [
        "def update_params(W1, b1, W2, b2, dW1, db1, dW2, db2, alpha):\n",
        "    W1 = W1 - alpha * dW1\n",
        "    b1 = b1 - alpha * db1\n",
        "    W2 = W2 - alpha * dW2\n",
        "    b2 = b2 - alpha * db2\n",
        "    return W1, b1, W2, b2"
      ],
      "metadata": {
        "id": "gUe8b46BYd4Z"
      },
      "execution_count": 13,
      "outputs": []
    },
    {
      "cell_type": "markdown",
      "source": [
        "the values are corrected by subtracting the error from the original predicted values"
      ],
      "metadata": {
        "id": "1zDJlaKC25nM"
      }
    },
    {
      "cell_type": "markdown",
      "source": [
        "alpha: hyper parameter, not trained by the model"
      ],
      "metadata": {
        "id": "2oKxVn0i4S3T"
      }
    },
    {
      "cell_type": "code",
      "source": [
        "def get_predictions(A2):\n",
        "    return np.argmax(A2, 0)\n",
        "\n",
        "def get_accuracy(predictions, Y):\n",
        "    print(predictions, Y)\n",
        "    return np.sum(predictions == Y) / Y.size\n",
        "\n",
        "def gradient_descent(X, Y, alpha, iterations):\n",
        "    W1, b1, W2, b2 = init_params()\n",
        "    for i in range(iterations):\n",
        "        Z1, A1, Z2, A2 = forward_prop(W1, b1, W2, b2, X)\n",
        "        dW1, db1, dW2, db2 = backward_prop(Z1, A1, Z2, A2, W1, W2, X, Y)\n",
        "        W1, b1, W2, b2 = update_params(W1, b1, W2, b2, dW1, db1, dW2, db2, alpha)\n",
        "        if i % 10 == 0:\n",
        "            print(\"Iteration: \", i)\n",
        "            predictions = get_predictions(A2)\n",
        "            print(get_accuracy(predictions, Y))\n",
        "    return W1, b1, W2, b2"
      ],
      "metadata": {
        "id": "DLEDKwv-VNAP"
      },
      "execution_count": 14,
      "outputs": []
    },
    {
      "cell_type": "code",
      "source": [
        "W1, b1, W2, b2 = gradient_descent(X_train, Y_train, 0.10, 500)"
      ],
      "metadata": {
        "colab": {
          "base_uri": "https://localhost:8080/"
        },
        "id": "JGvCTXI8VPtY",
        "outputId": "ebbb3844-121e-4a6b-b915-2ae1279dba21"
      },
      "execution_count": 15,
      "outputs": [
        {
          "output_type": "stream",
          "name": "stdout",
          "text": [
            "Iteration:  0\n",
            "[8 6 6 ... 0 6 7] [3 6 2 ... 8 9 2]\n",
            "0.14995121951219512\n",
            "Iteration:  10\n",
            "[8 8 0 ... 0 4 7] [3 6 2 ... 8 9 2]\n",
            "0.1888780487804878\n",
            "Iteration:  20\n",
            "[3 1 0 ... 0 7 7] [3 6 2 ... 8 9 2]\n",
            "0.2674878048780488\n",
            "Iteration:  30\n",
            "[3 1 0 ... 0 7 7] [3 6 2 ... 8 9 2]\n",
            "0.3289268292682927\n",
            "Iteration:  40\n",
            "[3 6 0 ... 0 7 7] [3 6 2 ... 8 9 2]\n",
            "0.3789268292682927\n",
            "Iteration:  50\n",
            "[3 6 0 ... 0 7 2] [3 6 2 ... 8 9 2]\n",
            "0.41865853658536584\n",
            "Iteration:  60\n",
            "[3 6 0 ... 0 7 2] [3 6 2 ... 8 9 2]\n",
            "0.4578048780487805\n",
            "Iteration:  70\n",
            "[3 6 0 ... 0 9 2] [3 6 2 ... 8 9 2]\n",
            "0.49265853658536585\n",
            "Iteration:  80\n",
            "[3 6 0 ... 0 9 2] [3 6 2 ... 8 9 2]\n",
            "0.5246341463414634\n",
            "Iteration:  90\n",
            "[3 6 2 ... 0 9 2] [3 6 2 ... 8 9 2]\n",
            "0.5573170731707318\n",
            "Iteration:  100\n",
            "[3 6 2 ... 5 9 2] [3 6 2 ... 8 9 2]\n",
            "0.5898780487804878\n",
            "Iteration:  110\n",
            "[3 6 2 ... 5 9 2] [3 6 2 ... 8 9 2]\n",
            "0.6216829268292683\n",
            "Iteration:  120\n",
            "[3 6 2 ... 5 9 2] [3 6 2 ... 8 9 2]\n",
            "0.6484634146341464\n",
            "Iteration:  130\n",
            "[3 6 2 ... 5 9 2] [3 6 2 ... 8 9 2]\n",
            "0.6691219512195122\n",
            "Iteration:  140\n",
            "[3 6 2 ... 5 9 2] [3 6 2 ... 8 9 2]\n",
            "0.6855121951219513\n",
            "Iteration:  150\n",
            "[3 6 2 ... 5 9 2] [3 6 2 ... 8 9 2]\n",
            "0.6989512195121951\n",
            "Iteration:  160\n",
            "[3 6 2 ... 8 9 2] [3 6 2 ... 8 9 2]\n",
            "0.7120975609756097\n",
            "Iteration:  170\n",
            "[3 6 2 ... 8 9 2] [3 6 2 ... 8 9 2]\n",
            "0.7235609756097561\n",
            "Iteration:  180\n",
            "[3 6 2 ... 8 9 2] [3 6 2 ... 8 9 2]\n",
            "0.7329024390243902\n",
            "Iteration:  190\n",
            "[3 6 2 ... 8 9 2] [3 6 2 ... 8 9 2]\n",
            "0.7409024390243902\n",
            "Iteration:  200\n",
            "[3 6 2 ... 8 9 2] [3 6 2 ... 8 9 2]\n",
            "0.7482926829268293\n",
            "Iteration:  210\n",
            "[3 6 2 ... 8 9 2] [3 6 2 ... 8 9 2]\n",
            "0.7552926829268293\n",
            "Iteration:  220\n",
            "[3 6 2 ... 8 9 2] [3 6 2 ... 8 9 2]\n",
            "0.7619024390243903\n",
            "Iteration:  230\n",
            "[3 6 2 ... 8 9 2] [3 6 2 ... 8 9 2]\n",
            "0.7676585365853659\n",
            "Iteration:  240\n",
            "[3 6 2 ... 8 9 2] [3 6 2 ... 8 9 2]\n",
            "0.7734634146341464\n",
            "Iteration:  250\n",
            "[3 6 2 ... 8 9 2] [3 6 2 ... 8 9 2]\n",
            "0.7785853658536586\n",
            "Iteration:  260\n",
            "[3 6 2 ... 8 9 2] [3 6 2 ... 8 9 2]\n",
            "0.7836829268292683\n",
            "Iteration:  270\n",
            "[3 6 2 ... 8 9 2] [3 6 2 ... 8 9 2]\n",
            "0.7880243902439025\n",
            "Iteration:  280\n",
            "[3 6 2 ... 8 9 2] [3 6 2 ... 8 9 2]\n",
            "0.7922926829268293\n",
            "Iteration:  290\n",
            "[3 6 2 ... 8 9 2] [3 6 2 ... 8 9 2]\n",
            "0.7956585365853659\n",
            "Iteration:  300\n",
            "[3 6 2 ... 8 9 2] [3 6 2 ... 8 9 2]\n",
            "0.7987560975609757\n",
            "Iteration:  310\n",
            "[3 6 2 ... 8 9 2] [3 6 2 ... 8 9 2]\n",
            "0.8022926829268293\n",
            "Iteration:  320\n",
            "[3 6 2 ... 8 9 2] [3 6 2 ... 8 9 2]\n",
            "0.8056829268292683\n",
            "Iteration:  330\n",
            "[3 6 2 ... 8 9 2] [3 6 2 ... 8 9 2]\n",
            "0.8091219512195122\n",
            "Iteration:  340\n",
            "[3 6 2 ... 8 9 2] [3 6 2 ... 8 9 2]\n",
            "0.8117317073170732\n",
            "Iteration:  350\n",
            "[3 6 2 ... 8 9 2] [3 6 2 ... 8 9 2]\n",
            "0.8148048780487804\n",
            "Iteration:  360\n",
            "[3 6 2 ... 8 9 2] [3 6 2 ... 8 9 2]\n",
            "0.8173170731707317\n",
            "Iteration:  370\n",
            "[3 6 2 ... 8 9 2] [3 6 2 ... 8 9 2]\n",
            "0.8193414634146341\n",
            "Iteration:  380\n",
            "[3 6 2 ... 8 9 2] [3 6 2 ... 8 9 2]\n",
            "0.822170731707317\n",
            "Iteration:  390\n",
            "[3 6 2 ... 8 9 2] [3 6 2 ... 8 9 2]\n",
            "0.8243414634146341\n",
            "Iteration:  400\n",
            "[3 6 2 ... 8 9 2] [3 6 2 ... 8 9 2]\n",
            "0.8267073170731707\n",
            "Iteration:  410\n",
            "[3 6 2 ... 8 9 2] [3 6 2 ... 8 9 2]\n",
            "0.8289756097560975\n",
            "Iteration:  420\n",
            "[3 6 2 ... 8 9 2] [3 6 2 ... 8 9 2]\n",
            "0.8307073170731707\n",
            "Iteration:  430\n",
            "[3 6 2 ... 8 9 2] [3 6 2 ... 8 9 2]\n",
            "0.8323658536585365\n",
            "Iteration:  440\n",
            "[3 6 2 ... 8 9 2] [3 6 2 ... 8 9 2]\n",
            "0.8341951219512195\n",
            "Iteration:  450\n",
            "[3 6 2 ... 8 9 2] [3 6 2 ... 8 9 2]\n",
            "0.8356341463414634\n",
            "Iteration:  460\n",
            "[3 6 2 ... 8 9 2] [3 6 2 ... 8 9 2]\n",
            "0.8374390243902439\n",
            "Iteration:  470\n",
            "[3 6 2 ... 8 9 2] [3 6 2 ... 8 9 2]\n",
            "0.8394390243902439\n",
            "Iteration:  480\n",
            "[3 6 2 ... 8 9 2] [3 6 2 ... 8 9 2]\n",
            "0.8412439024390244\n",
            "Iteration:  490\n",
            "[3 6 2 ... 8 9 2] [3 6 2 ... 8 9 2]\n",
            "0.8427317073170731\n"
          ]
        }
      ]
    },
    {
      "cell_type": "code",
      "source": [
        "def make_predictions(X, W1, b1, W2, b2):\n",
        "    _, _, _, A2 = forward_prop(W1, b1, W2, b2, X)\n",
        "    predictions = get_predictions(A2)\n",
        "    return predictions\n",
        "\n",
        "def test_prediction(index, W1, b1, W2, b2):\n",
        "    current_image = X_train[:, index, None]\n",
        "    prediction = make_predictions(X_train[:, index, None], W1, b1, W2, b2)\n",
        "    label = Y_train[index]\n",
        "    print(\"Prediction: \", prediction)\n",
        "    print(\"Label: \", label)\n",
        "\n",
        "    current_image = current_image.reshape((28, 28)) * 255\n",
        "    plt.gray()\n",
        "    plt.imshow(current_image, interpolation='nearest')\n",
        "    plt.show()"
      ],
      "metadata": {
        "id": "2ebxveR_X_A3"
      },
      "execution_count": 16,
      "outputs": []
    },
    {
      "cell_type": "code",
      "source": [
        "test_prediction(4, W1, b1, W2, b2)\n"
      ],
      "metadata": {
        "colab": {
          "base_uri": "https://localhost:8080/",
          "height": 465
        },
        "id": "gJWtX0aWYPd2",
        "outputId": "eb5ffa7e-0af9-4eb2-8fc3-a0c6feb862ec"
      },
      "execution_count": 32,
      "outputs": [
        {
          "output_type": "stream",
          "name": "stdout",
          "text": [
            "Prediction:  [3]\n",
            "Label:  3\n"
          ]
        },
        {
          "output_type": "display_data",
          "data": {
            "text/plain": [
              "<Figure size 640x480 with 1 Axes>"
            ],
            "image/png": "[encoded data removed]"
          },
          "metadata": {}
        }
      ]
    },
    {
      "cell_type": "code",
      "source": [
        "dev_predictions = make_predictions(X_dev, W1, b1, W2, b2)\n",
        "get_accuracy(dev_predictions, Y_dev)"
      ],
      "metadata": {
        "colab": {
          "base_uri": "https://localhost:8080/"
        },
        "id": "n5v04TOLYwMu",
        "outputId": "b2fa41d3-0c16-4077-8091-a34535c0b055"
      },
      "execution_count": 31,
      "outputs": [
        {
          "output_type": "stream",
          "name": "stdout",
          "text": [
            "[5 1 0 6 1 2 1 5 4 2 1 0 5 0 0 1 7 7 8 8 4 0 3 1 6 6 6 7 6 3 5 9 4 2 8 5 3\n",
            " 1 1 2 1 9 6 7 1 6 3 2 9 7 4 6 6 1 1 5 2 1 8 1 2 8 9 9 0 8 8 4 3 5 0 1 8 1\n",
            " 4 3 4 0 9 1 5 8 7 7 7 3 4 2 9 1 2 4 0 5 8 8 9 7 8 9 2 8 7 3 9 0 6 4 4 1 3\n",
            " 1 1 8 0 4 6 0 8 3 4 2 8 1 1 6 4 7 4 2 0 0 6 3 0 1 2 1 2 6 4 0 6 9 5 9 3 7\n",
            " 2 2 8 5 6 8 5 3 8 8 4 6 3 0 9 7 5 5 2 4 4 2 7 6 7 0 0 1 8 4 3 0 3 5 8 8 8\n",
            " 1 5 8 5 7 7 2 7 5 9 6 7 3 5 1 8 2 5 9 0 1 0 2 1 0 2 8 3 8 2 4 0 1 5 5 4 4\n",
            " 8 9 2 4 6 1 6 1 6 4 1 1 8 5 0 7 6 3 6 1 4 8 2 5 6 7 0 4 1 1 1 4 8 6 0 1 8\n",
            " 6 6 8 1 7 5 7 2 4 4 2 8 5 9 7 5 8 8 5 7 6 3 7 6 8 3 7 2 5 8 5 1 2 2 6 5 0\n",
            " 1 3 8 8 8 9 7 4 2 7 3 7 0 1 7 1 3 7 9 3 1 2 3 0 6 1 1 7 2 6 5 3 2 0 6 2 0\n",
            " 5 0 1 4 8 4 7 7 6 0 7 2 4 4 8 6 3 4 5 6 1 7 5 2 1 2 1 9 3 9 6 1 9 0 8 4 1\n",
            " 7 7 0 1 0 6 6 9 8 5 7 7 3 3 4 6 3 1 1 7 7 3 3 7 3 2 0 1 4 4 5 5 0 2 8 5 0\n",
            " 4 1 2 3 9 9 8 0 2 8 4 5 9 3 0 1 9 5 2 2 9 4 7 7 4 2 4 9 7 3 4 5 3 6 7 1 8\n",
            " 9 7 7 0 3 9 2 4 4 7 7 2 0 5 1 8 7 9 2 2 0 8 2 8 1 5 0 0 7 9 5 9 4 3 0 3 7\n",
            " 1 1 8 0 0 5 9 0 5 8 0 7 0 4 4 7 7 0 6 1 8 6 3 1 7 8 5 4 9 4 3 4 8 0 5 7 7\n",
            " 0 2 9 2 2 6 7 5 3 4 0 6 4 4 7 1 5 2 5 7 6 5 8 0 0 8 1 6 2 9 2 8 4 3 1 2 8\n",
            " 4 8 0 2 3 0 9 3 8 1 8 6 3 8 6 5 2 4 3 6 6 2 0 6 2 8 0 3 1 8 6 5 7 4 1 0 7\n",
            " 1 6 1 1 7 1 8 1 2 6 1 8 5 7 9 3 6 6 4 7 1 4 6 2 1 7 9 4 3 1 2 0 1 8 3 7 7\n",
            " 3 6 4 7 8 6 1 5 2 1 0 6 2 2 9 2 4 4 0 7 6 7 9 6 5 7 2 3 7 6 2 5 4 7 5 0 7\n",
            " 2 0 0 8 9 5 8 9 3 8 7 1 8 3 9 4 4 6 9 1 3 1 1 4 0 0 3 2 2 8 5 3 1 1 5 9 0\n",
            " 3 0 0 8 1 9 2 3 9 6 3 6 1 5 8 2 2 8 5 7 2 6 2 1 3 7 1 4 5 1 0 4 6 1 2 7 1\n",
            " 3 4 8 2 4 3 8 9 7 6 7 9 5 2 9 0 1 0 3 5 3 5 3 5 2 5 2 8 1 3 2 5 4 5 9 5 0\n",
            " 4 6 2 1 3 4 1 2 3 4 0 2 2 4 9 5 4 3 1 0 8 6 3 0 4 7 3 4 9 0 3 2 2 6 7 6 2\n",
            " 1 7 3 1 8 0 2 3 7 2 6 7 4 2 2 6 1 8 9 0 2 2 8 9 3 4 0 4 3 1 3 1 0 0 5 8 7\n",
            " 6 2 0 1 8 5 7 6 2 5 3 6 5 3 9 2 1 0 0 6 5 3 4 1 9 6 9 2 4 9 7 4 6 9 2 9 2\n",
            " 8 0 0 4 3 6 7 1 2 4 1 4 8 3 1 3 6 1 2 6 2 4 2 0 7 7 0 8 3 2 4 6 1 5 1 4 8\n",
            " 5 2 5 1 8 9 3 3 3 1 8 2 0 2 4 2 6 5 0 3 7 4 9 3 7 2 1 8 4 6 5 8 1 1 4 0 8\n",
            " 5 7 9 6 1 4 3 1 1 6 4 7 9 1 8 2 8 0 0 1 9 7 2 7 5 0 7 0 4 7 9 2 9 2 6 4 5\n",
            " 9] [8 1 0 6 1 2 1 5 4 2 2 0 5 0 0 1 5 7 8 8 4 0 3 1 6 3 6 7 6 3 0 8 4 2 8 5 3\n",
            " 1 1 2 1 9 6 7 1 6 3 2 4 7 4 6 6 1 2 5 2 1 8 1 2 8 9 7 0 2 9 4 3 5 0 1 8 1\n",
            " 5 3 0 2 9 1 5 8 7 7 7 3 4 2 4 1 7 4 0 5 8 4 9 7 8 9 2 8 7 2 9 0 6 4 0 1 3\n",
            " 1 1 5 0 4 0 0 8 1 4 2 8 8 8 6 4 9 4 2 0 0 6 5 0 1 2 1 2 6 4 0 6 9 5 4 3 7\n",
            " 2 2 4 5 6 8 5 3 1 3 4 6 3 0 9 7 8 5 2 4 4 2 7 6 5 0 0 1 7 4 3 0 3 5 8 8 8\n",
            " 1 5 8 5 7 7 2 4 5 4 6 7 3 5 1 8 2 8 9 0 1 0 2 1 0 2 8 3 8 2 4 0 6 5 8 4 4\n",
            " 8 9 2 4 6 1 6 1 6 4 1 1 8 5 0 7 6 3 6 1 4 8 2 8 6 7 0 4 1 1 1 2 8 6 0 1 3\n",
            " 4 6 8 1 9 3 7 2 4 4 2 8 5 9 7 5 8 8 5 9 6 3 7 6 8 3 7 2 8 8 8 1 2 2 6 5 0\n",
            " 1 3 8 3 8 9 7 4 2 9 3 7 0 1 7 1 3 2 9 5 1 2 3 0 6 1 1 7 2 6 5 3 2 0 5 2 0\n",
            " 5 0 1 4 8 9 7 5 6 0 7 2 4 4 8 6 3 6 5 6 1 7 5 2 1 2 1 9 3 5 6 1 7 0 8 4 1\n",
            " 5 7 0 1 0 6 4 9 8 5 7 7 3 2 4 6 3 1 1 7 7 3 3 7 3 2 4 1 4 4 5 5 0 2 8 5 0\n",
            " 4 1 2 3 4 9 8 0 2 5 4 5 9 3 9 1 9 5 2 2 9 4 7 7 9 2 2 9 7 3 4 5 8 6 7 1 8\n",
            " 4 7 7 0 1 9 2 4 6 7 7 2 0 5 1 8 7 9 3 2 0 8 2 3 1 5 0 0 2 8 5 9 4 8 0 3 7\n",
            " 1 1 8 0 0 5 4 0 5 7 0 7 0 9 4 9 7 0 6 8 8 6 3 1 7 8 5 4 9 4 3 4 8 0 3 7 7\n",
            " 0 2 9 2 2 6 9 5 3 4 0 6 8 4 7 1 9 2 5 7 6 5 8 0 0 8 1 6 2 9 2 8 4 3 1 2 8\n",
            " 4 2 0 2 3 0 9 3 8 1 2 6 3 8 6 5 2 4 3 6 6 2 0 6 2 8 5 9 1 8 6 5 7 4 1 0 7\n",
            " 1 6 1 1 7 1 8 1 8 6 1 8 5 3 4 3 6 6 4 9 1 4 6 2 5 7 7 4 8 1 2 6 1 8 3 5 7\n",
            " 8 6 4 7 5 5 1 5 2 1 0 6 2 2 9 2 9 9 0 7 2 7 9 5 3 7 2 3 7 6 2 5 4 7 5 0 7\n",
            " 8 0 0 8 9 5 5 9 3 8 7 1 8 9 9 2 9 6 9 1 3 1 8 4 6 0 2 2 2 3 3 3 1 1 3 9 0\n",
            " 3 0 0 2 1 9 2 3 4 6 2 5 1 5 8 2 2 8 5 7 2 6 2 1 3 7 1 4 5 1 0 9 6 1 2 7 1\n",
            " 3 4 8 2 4 3 8 9 7 6 9 9 5 8 9 0 8 0 3 5 3 5 3 3 2 5 2 8 1 3 2 8 4 5 9 5 0\n",
            " 2 6 2 1 9 4 1 2 5 4 0 2 2 4 9 8 4 3 1 0 2 6 3 0 4 7 3 8 9 0 3 2 2 6 7 6 2\n",
            " 1 7 3 1 4 0 2 9 7 2 6 9 4 2 4 6 1 8 9 0 2 2 8 9 3 4 0 4 3 1 3 1 0 0 3 8 7\n",
            " 6 3 0 1 8 5 7 6 6 5 3 6 8 3 9 2 1 0 0 6 5 3 4 8 9 6 4 2 4 7 9 4 2 9 2 9 2\n",
            " 4 5 0 4 8 6 7 1 2 4 1 9 8 3 1 5 6 1 2 2 3 4 2 0 7 7 0 8 1 2 4 6 2 5 1 4 8\n",
            " 5 2 5 1 8 9 3 3 3 1 2 2 0 8 4 2 6 3 0 3 5 4 3 8 7 2 1 8 9 6 0 8 1 1 4 0 8\n",
            " 5 9 9 6 1 4 3 1 1 6 4 7 9 1 8 2 8 0 0 1 3 5 2 7 0 0 7 0 4 7 9 2 9 2 6 4 5\n",
            " 9]\n"
          ]
        },
        {
          "output_type": "execute_result",
          "data": {
            "text/plain": [
              "0.834"
            ]
          },
          "metadata": {},
          "execution_count": 31
        }
      ]
    }
  ],
  "metadata": {
    "colab": {
      "provenance": []
    },
    "kernelspec": {
      "display_name": "Python 3",
      "name": "python3"
    },
    "language_info": {
      "name": "python"
    }
  },
  "nbformat": 4,
  "nbformat_minor": 0
}